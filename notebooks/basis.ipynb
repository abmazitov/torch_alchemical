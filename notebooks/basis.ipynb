{
 "cells": [
  {
   "cell_type": "code",
   "execution_count": 1,
   "metadata": {},
   "outputs": [],
   "source": [
    "from torch_alchemical.data import AtomisticDataset\n",
    "from torch_geometric.loader import DataLoader\n",
    "from ase.io import read\n",
    "import torch\n",
    "from torch_alchemical.utils import get_list_of_unique_atomic_numbers"
   ]
  },
  {
   "cell_type": "code",
   "execution_count": 2,
   "metadata": {},
   "outputs": [],
   "source": [
    "torch.set_default_dtype(torch.float64)"
   ]
  },
  {
   "cell_type": "code",
   "execution_count": 3,
   "metadata": {},
   "outputs": [],
   "source": [
    "frames = read('../data/hea_samples_bulk.xyz', index=':')"
   ]
  },
  {
   "cell_type": "code",
   "execution_count": 4,
   "metadata": {},
   "outputs": [],
   "source": [
    "from torch_alchemical.transforms import NeighborList"
   ]
  },
  {
   "cell_type": "code",
   "execution_count": 5,
   "metadata": {},
   "outputs": [],
   "source": [
    "transforms = [NeighborList(cutoff_radius=5.0)]\n",
    "dataset = AtomisticDataset(frames, target_properties=['energies', 'forces'], transforms=transforms)\n",
    "dataloader = DataLoader(dataset, batch_size=16)"
   ]
  },
  {
   "cell_type": "code",
   "execution_count": 6,
   "metadata": {},
   "outputs": [],
   "source": [
    "batch = next(iter(dataloader))"
   ]
  },
  {
   "cell_type": "code",
   "execution_count": 7,
   "metadata": {},
   "outputs": [],
   "source": [
    "from torch_alchemical.nn import PowerSpectrumFeatures, RadialSpectrumFeatures"
   ]
  },
  {
   "cell_type": "code",
   "execution_count": 8,
   "metadata": {},
   "outputs": [],
   "source": [
    "unique_numbers = get_list_of_unique_atomic_numbers(frames)"
   ]
  },
  {
   "cell_type": "code",
   "execution_count": 11,
   "metadata": {},
   "outputs": [
    {
     "name": "stdout",
     "output_type": "stream",
     "text": [
      "l_max = 4\n",
      "[2 2 1 1 1]\n",
      "Normalization check (needs to be close to 1): 0.9999999999999999\n",
      "l_max = 4\n",
      "[2 2 1 1 1]\n",
      "Normalization check (needs to be close to 1): 0.9999999999999999\n"
     ]
    }
   ],
   "source": [
    "radial_features_layer = RadialSpectrumFeatures(\n",
    "    unique_numbers,\n",
    "    cutoff_radius=5.0,\n",
    "    basis_cutoff = 80.0\n",
    ")\n",
    "ps_features_layer = PowerSpectrumFeatures(\n",
    "    unique_numbers,\n",
    "    cutoff_radius=5.0,\n",
    "    basis_cutoff = 80.0,\n",
    "    num_pseudo_species = 4,\n",
    ")"
   ]
  },
  {
   "cell_type": "code",
   "execution_count": 12,
   "metadata": {},
   "outputs": [],
   "source": [
    "radial_features = radial_features_layer(batch)\n",
    "ps_features = ps_features_layer(batch)"
   ]
  }
 ],
 "metadata": {
  "kernelspec": {
   "display_name": "alch-learning",
   "language": "python",
   "name": "python3"
  },
  "language_info": {
   "codemirror_mode": {
    "name": "ipython",
    "version": 3
   },
   "file_extension": ".py",
   "mimetype": "text/x-python",
   "name": "python",
   "nbconvert_exporter": "python",
   "pygments_lexer": "ipython3",
   "version": "3.10.9"
  },
  "orig_nbformat": 4
 },
 "nbformat": 4,
 "nbformat_minor": 2
}
